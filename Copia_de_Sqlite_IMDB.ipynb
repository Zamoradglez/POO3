{
  "nbformat": 4,
  "nbformat_minor": 0,
  "metadata": {
    "colab": {
      "provenance": []
    },
    "kernelspec": {
      "name": "python3",
      "display_name": "Python 3"
    },
    "language_info": {
      "name": "python"
    }
  },
  "cells": [
    {
      "cell_type": "code",
      "source": [
        "# Importación de librerías\n",
        "import numpy as np  # Importa la librería NumPy para computación numérica\n",
        "import pandas as pd  # Importa la librería pandas para análisis y manipulación de datos\n",
        "import matplotlib.pyplot as plt  # Importa la librería matplotlib para la creación de gráficos (usando pyplot)\n",
        "import seaborn as sns  # Importa la librería seaborn para la visualización estadística de datos (construida sobre matplotlib)\n",
        "import sqlite3  # Importa la librería sqlite3 para trabajar con bases de datos SQLite\n",
        "\n",
        "# Supresión de advertencias (utilizar con precaución)\n",
        "warnings.filterwarnings('ignore')  # Esta línea suprime las advertencias, pero puede ocultar mensajes importantes, úsela con precaución\n"
      ],
      "metadata": {
        "id": "FDFc4tfEYc0_"
      },
      "execution_count": 7,
      "outputs": []
    },
    {
      "cell_type": "code",
      "source": [
        "from google.colab import drive\n",
        "drive.mount('/content/drive')"
      ],
      "metadata": {
        "id": "dkzOPxTVrcT6",
        "colab": {
          "base_uri": "https://localhost:8080/"
        },
        "outputId": "b41ff393-c1b1-46b5-a8e0-22363dad0958"
      },
      "execution_count": 1,
      "outputs": [
        {
          "output_type": "stream",
          "name": "stdout",
          "text": [
            "Mounted at /content/drive\n"
          ]
        }
      ]
    },
    {
      "cell_type": "code",
      "execution_count": 8,
      "metadata": {
        "id": "xi39C4HqYZZt"
      },
      "outputs": [],
      "source": [
        "# Conectarse a la base de datos movie.sqlite\n",
        "con = sqlite3.connect(\"movie.sqlite\")\n",
        "\n",
        "# Crear un cursor para ejecutar sentencias SQL\n",
        "cur = con.cursor()\n"
      ]
    },
    {
      "cell_type": "markdown",
      "source": [
        "1.- ¿Cuáles son los datos de las películas?"
      ],
      "metadata": {
        "id": "jI7BcnzWhuu5"
      }
    },
    {
      "cell_type": "code",
      "source": [
        "cur.execute('SELECT * FROM movies')\n",
        "\n",
        "movies = cur.fetchall()\n",
        "\n",
        "#Note - fetchall() --> recupera todas las filas para la consulta actual; si no hay filas disponibles, devuelve una lista vacía.\n",
        "movies = pd.DataFrame(movies, columns = ['id', 'original_title', 'budget', 'popularity', 'release_date', 'revenue', 'title', 'vote_average', 'vote_count', 'overview', 'tagline', 'uid', 'director_id'])\n",
        "\n",
        "print('Tamaño de los datos :',movies.shape)\n",
        "print('\\n\\n\\n')\n",
        "movies.head(3)"
      ],
      "metadata": {
        "colab": {
          "base_uri": "https://localhost:8080/",
          "height": 545
        },
        "id": "ECmrvQnAYxcj",
        "outputId": "39808315-048b-4168-9b98-7aaaa8dade7f"
      },
      "execution_count": 5,
      "outputs": [
        {
          "output_type": "stream",
          "name": "stdout",
          "text": [
            "Tamaño de los datos : (4773, 13)\n",
            "\n",
            "\n",
            "\n",
            "\n"
          ]
        },
        {
          "output_type": "execute_result",
          "data": {
            "text/plain": [
              "      id                            original_title     budget  popularity  \\\n",
              "0  43597                                    Avatar  237000000         150   \n",
              "1  43598  Pirates of the Caribbean: At World's End  300000000         139   \n",
              "2  43599                                   Spectre  245000000         107   \n",
              "\n",
              "  release_date     revenue                                     title  \\\n",
              "0   2009-12-10  2787965087                                    Avatar   \n",
              "1   2007-05-19   961000000  Pirates of the Caribbean: At World's End   \n",
              "2   2015-10-26   880674609                                   Spectre   \n",
              "\n",
              "   vote_average  vote_count  \\\n",
              "0           7.2       11800   \n",
              "1           6.9        4500   \n",
              "2           6.3        4466   \n",
              "\n",
              "                                            overview  \\\n",
              "0  In the 22nd century, a paraplegic Marine is di...   \n",
              "1  Captain Barbossa, long believed to be dead, ha...   \n",
              "2  A cryptic message from Bond’s past sends him o...   \n",
              "\n",
              "                                          tagline     uid  director_id  \n",
              "0                     Enter the World of Pandora.   19995         4762  \n",
              "1  At the end of the world, the adventure begins.     285         4763  \n",
              "2                           A Plan No One Escapes  206647         4764  "
            ],
            "text/html": [
              "\n",
              "  <div id=\"df-cec15604-9675-4bd6-a819-62c3ebf3e3c8\" class=\"colab-df-container\">\n",
              "    <div>\n",
              "<style scoped>\n",
              "    .dataframe tbody tr th:only-of-type {\n",
              "        vertical-align: middle;\n",
              "    }\n",
              "\n",
              "    .dataframe tbody tr th {\n",
              "        vertical-align: top;\n",
              "    }\n",
              "\n",
              "    .dataframe thead th {\n",
              "        text-align: right;\n",
              "    }\n",
              "</style>\n",
              "<table border=\"1\" class=\"dataframe\">\n",
              "  <thead>\n",
              "    <tr style=\"text-align: right;\">\n",
              "      <th></th>\n",
              "      <th>id</th>\n",
              "      <th>original_title</th>\n",
              "      <th>budget</th>\n",
              "      <th>popularity</th>\n",
              "      <th>release_date</th>\n",
              "      <th>revenue</th>\n",
              "      <th>title</th>\n",
              "      <th>vote_average</th>\n",
              "      <th>vote_count</th>\n",
              "      <th>overview</th>\n",
              "      <th>tagline</th>\n",
              "      <th>uid</th>\n",
              "      <th>director_id</th>\n",
              "    </tr>\n",
              "  </thead>\n",
              "  <tbody>\n",
              "    <tr>\n",
              "      <th>0</th>\n",
              "      <td>43597</td>\n",
              "      <td>Avatar</td>\n",
              "      <td>237000000</td>\n",
              "      <td>150</td>\n",
              "      <td>2009-12-10</td>\n",
              "      <td>2787965087</td>\n",
              "      <td>Avatar</td>\n",
              "      <td>7.2</td>\n",
              "      <td>11800</td>\n",
              "      <td>In the 22nd century, a paraplegic Marine is di...</td>\n",
              "      <td>Enter the World of Pandora.</td>\n",
              "      <td>19995</td>\n",
              "      <td>4762</td>\n",
              "    </tr>\n",
              "    <tr>\n",
              "      <th>1</th>\n",
              "      <td>43598</td>\n",
              "      <td>Pirates of the Caribbean: At World's End</td>\n",
              "      <td>300000000</td>\n",
              "      <td>139</td>\n",
              "      <td>2007-05-19</td>\n",
              "      <td>961000000</td>\n",
              "      <td>Pirates of the Caribbean: At World's End</td>\n",
              "      <td>6.9</td>\n",
              "      <td>4500</td>\n",
              "      <td>Captain Barbossa, long believed to be dead, ha...</td>\n",
              "      <td>At the end of the world, the adventure begins.</td>\n",
              "      <td>285</td>\n",
              "      <td>4763</td>\n",
              "    </tr>\n",
              "    <tr>\n",
              "      <th>2</th>\n",
              "      <td>43599</td>\n",
              "      <td>Spectre</td>\n",
              "      <td>245000000</td>\n",
              "      <td>107</td>\n",
              "      <td>2015-10-26</td>\n",
              "      <td>880674609</td>\n",
              "      <td>Spectre</td>\n",
              "      <td>6.3</td>\n",
              "      <td>4466</td>\n",
              "      <td>A cryptic message from Bond’s past sends him o...</td>\n",
              "      <td>A Plan No One Escapes</td>\n",
              "      <td>206647</td>\n",
              "      <td>4764</td>\n",
              "    </tr>\n",
              "  </tbody>\n",
              "</table>\n",
              "</div>\n",
              "    <div class=\"colab-df-buttons\">\n",
              "\n",
              "  <div class=\"colab-df-container\">\n",
              "    <button class=\"colab-df-convert\" onclick=\"convertToInteractive('df-cec15604-9675-4bd6-a819-62c3ebf3e3c8')\"\n",
              "            title=\"Convert this dataframe to an interactive table.\"\n",
              "            style=\"display:none;\">\n",
              "\n",
              "  <svg xmlns=\"http://www.w3.org/2000/svg\" height=\"24px\" viewBox=\"0 -960 960 960\">\n",
              "    <path d=\"M120-120v-720h720v720H120Zm60-500h600v-160H180v160Zm220 220h160v-160H400v160Zm0 220h160v-160H400v160ZM180-400h160v-160H180v160Zm440 0h160v-160H620v160ZM180-180h160v-160H180v160Zm440 0h160v-160H620v160Z\"/>\n",
              "  </svg>\n",
              "    </button>\n",
              "\n",
              "  <style>\n",
              "    .colab-df-container {\n",
              "      display:flex;\n",
              "      gap: 12px;\n",
              "    }\n",
              "\n",
              "    .colab-df-convert {\n",
              "      background-color: #E8F0FE;\n",
              "      border: none;\n",
              "      border-radius: 50%;\n",
              "      cursor: pointer;\n",
              "      display: none;\n",
              "      fill: #1967D2;\n",
              "      height: 32px;\n",
              "      padding: 0 0 0 0;\n",
              "      width: 32px;\n",
              "    }\n",
              "\n",
              "    .colab-df-convert:hover {\n",
              "      background-color: #E2EBFA;\n",
              "      box-shadow: 0px 1px 2px rgba(60, 64, 67, 0.3), 0px 1px 3px 1px rgba(60, 64, 67, 0.15);\n",
              "      fill: #174EA6;\n",
              "    }\n",
              "\n",
              "    .colab-df-buttons div {\n",
              "      margin-bottom: 4px;\n",
              "    }\n",
              "\n",
              "    [theme=dark] .colab-df-convert {\n",
              "      background-color: #3B4455;\n",
              "      fill: #D2E3FC;\n",
              "    }\n",
              "\n",
              "    [theme=dark] .colab-df-convert:hover {\n",
              "      background-color: #434B5C;\n",
              "      box-shadow: 0px 1px 3px 1px rgba(0, 0, 0, 0.15);\n",
              "      filter: drop-shadow(0px 1px 2px rgba(0, 0, 0, 0.3));\n",
              "      fill: #FFFFFF;\n",
              "    }\n",
              "  </style>\n",
              "\n",
              "    <script>\n",
              "      const buttonEl =\n",
              "        document.querySelector('#df-cec15604-9675-4bd6-a819-62c3ebf3e3c8 button.colab-df-convert');\n",
              "      buttonEl.style.display =\n",
              "        google.colab.kernel.accessAllowed ? 'block' : 'none';\n",
              "\n",
              "      async function convertToInteractive(key) {\n",
              "        const element = document.querySelector('#df-cec15604-9675-4bd6-a819-62c3ebf3e3c8');\n",
              "        const dataTable =\n",
              "          await google.colab.kernel.invokeFunction('convertToInteractive',\n",
              "                                                    [key], {});\n",
              "        if (!dataTable) return;\n",
              "\n",
              "        const docLinkHtml = 'Like what you see? Visit the ' +\n",
              "          '<a target=\"_blank\" href=https://colab.research.google.com/notebooks/data_table.ipynb>data table notebook</a>'\n",
              "          + ' to learn more about interactive tables.';\n",
              "        element.innerHTML = '';\n",
              "        dataTable['output_type'] = 'display_data';\n",
              "        await google.colab.output.renderOutput(dataTable, element);\n",
              "        const docLink = document.createElement('div');\n",
              "        docLink.innerHTML = docLinkHtml;\n",
              "        element.appendChild(docLink);\n",
              "      }\n",
              "    </script>\n",
              "  </div>\n",
              "\n",
              "\n",
              "<div id=\"df-5313201a-6700-4912-8984-31953ded3ec4\">\n",
              "  <button class=\"colab-df-quickchart\" onclick=\"quickchart('df-5313201a-6700-4912-8984-31953ded3ec4')\"\n",
              "            title=\"Suggest charts\"\n",
              "            style=\"display:none;\">\n",
              "\n",
              "<svg xmlns=\"http://www.w3.org/2000/svg\" height=\"24px\"viewBox=\"0 0 24 24\"\n",
              "     width=\"24px\">\n",
              "    <g>\n",
              "        <path d=\"M19 3H5c-1.1 0-2 .9-2 2v14c0 1.1.9 2 2 2h14c1.1 0 2-.9 2-2V5c0-1.1-.9-2-2-2zM9 17H7v-7h2v7zm4 0h-2V7h2v10zm4 0h-2v-4h2v4z\"/>\n",
              "    </g>\n",
              "</svg>\n",
              "  </button>\n",
              "\n",
              "<style>\n",
              "  .colab-df-quickchart {\n",
              "      --bg-color: #E8F0FE;\n",
              "      --fill-color: #1967D2;\n",
              "      --hover-bg-color: #E2EBFA;\n",
              "      --hover-fill-color: #174EA6;\n",
              "      --disabled-fill-color: #AAA;\n",
              "      --disabled-bg-color: #DDD;\n",
              "  }\n",
              "\n",
              "  [theme=dark] .colab-df-quickchart {\n",
              "      --bg-color: #3B4455;\n",
              "      --fill-color: #D2E3FC;\n",
              "      --hover-bg-color: #434B5C;\n",
              "      --hover-fill-color: #FFFFFF;\n",
              "      --disabled-bg-color: #3B4455;\n",
              "      --disabled-fill-color: #666;\n",
              "  }\n",
              "\n",
              "  .colab-df-quickchart {\n",
              "    background-color: var(--bg-color);\n",
              "    border: none;\n",
              "    border-radius: 50%;\n",
              "    cursor: pointer;\n",
              "    display: none;\n",
              "    fill: var(--fill-color);\n",
              "    height: 32px;\n",
              "    padding: 0;\n",
              "    width: 32px;\n",
              "  }\n",
              "\n",
              "  .colab-df-quickchart:hover {\n",
              "    background-color: var(--hover-bg-color);\n",
              "    box-shadow: 0 1px 2px rgba(60, 64, 67, 0.3), 0 1px 3px 1px rgba(60, 64, 67, 0.15);\n",
              "    fill: var(--button-hover-fill-color);\n",
              "  }\n",
              "\n",
              "  .colab-df-quickchart-complete:disabled,\n",
              "  .colab-df-quickchart-complete:disabled:hover {\n",
              "    background-color: var(--disabled-bg-color);\n",
              "    fill: var(--disabled-fill-color);\n",
              "    box-shadow: none;\n",
              "  }\n",
              "\n",
              "  .colab-df-spinner {\n",
              "    border: 2px solid var(--fill-color);\n",
              "    border-color: transparent;\n",
              "    border-bottom-color: var(--fill-color);\n",
              "    animation:\n",
              "      spin 1s steps(1) infinite;\n",
              "  }\n",
              "\n",
              "  @keyframes spin {\n",
              "    0% {\n",
              "      border-color: transparent;\n",
              "      border-bottom-color: var(--fill-color);\n",
              "      border-left-color: var(--fill-color);\n",
              "    }\n",
              "    20% {\n",
              "      border-color: transparent;\n",
              "      border-left-color: var(--fill-color);\n",
              "      border-top-color: var(--fill-color);\n",
              "    }\n",
              "    30% {\n",
              "      border-color: transparent;\n",
              "      border-left-color: var(--fill-color);\n",
              "      border-top-color: var(--fill-color);\n",
              "      border-right-color: var(--fill-color);\n",
              "    }\n",
              "    40% {\n",
              "      border-color: transparent;\n",
              "      border-right-color: var(--fill-color);\n",
              "      border-top-color: var(--fill-color);\n",
              "    }\n",
              "    60% {\n",
              "      border-color: transparent;\n",
              "      border-right-color: var(--fill-color);\n",
              "    }\n",
              "    80% {\n",
              "      border-color: transparent;\n",
              "      border-right-color: var(--fill-color);\n",
              "      border-bottom-color: var(--fill-color);\n",
              "    }\n",
              "    90% {\n",
              "      border-color: transparent;\n",
              "      border-bottom-color: var(--fill-color);\n",
              "    }\n",
              "  }\n",
              "</style>\n",
              "\n",
              "  <script>\n",
              "    async function quickchart(key) {\n",
              "      const quickchartButtonEl =\n",
              "        document.querySelector('#' + key + ' button');\n",
              "      quickchartButtonEl.disabled = true;  // To prevent multiple clicks.\n",
              "      quickchartButtonEl.classList.add('colab-df-spinner');\n",
              "      try {\n",
              "        const charts = await google.colab.kernel.invokeFunction(\n",
              "            'suggestCharts', [key], {});\n",
              "      } catch (error) {\n",
              "        console.error('Error during call to suggestCharts:', error);\n",
              "      }\n",
              "      quickchartButtonEl.classList.remove('colab-df-spinner');\n",
              "      quickchartButtonEl.classList.add('colab-df-quickchart-complete');\n",
              "    }\n",
              "    (() => {\n",
              "      let quickchartButtonEl =\n",
              "        document.querySelector('#df-5313201a-6700-4912-8984-31953ded3ec4 button');\n",
              "      quickchartButtonEl.style.display =\n",
              "        google.colab.kernel.accessAllowed ? 'block' : 'none';\n",
              "    })();\n",
              "  </script>\n",
              "</div>\n",
              "    </div>\n",
              "  </div>\n"
            ],
            "application/vnd.google.colaboratory.intrinsic+json": {
              "type": "dataframe",
              "variable_name": "movies",
              "summary": "{\n  \"name\": \"movies\",\n  \"rows\": 4773,\n  \"fields\": [\n    {\n      \"column\": \"id\",\n      \"properties\": {\n        \"dtype\": \"number\",\n        \"std\": 1382,\n        \"min\": 43597,\n        \"max\": 48399,\n        \"num_unique_values\": 4773,\n        \"samples\": [\n          43630,\n          44152,\n          48318\n        ],\n        \"semantic_type\": \"\",\n        \"description\": \"\"\n      }\n    },\n    {\n      \"column\": \"original_title\",\n      \"properties\": {\n        \"dtype\": \"string\",\n        \"num_unique_values\": 4771,\n        \"samples\": [\n          \"For Love of the Game\",\n          \"The Front Page\",\n          \"New York Stories\"\n        ],\n        \"semantic_type\": \"\",\n        \"description\": \"\"\n      }\n    },\n    {\n      \"column\": \"budget\",\n      \"properties\": {\n        \"dtype\": \"number\",\n        \"std\": 40786792,\n        \"min\": 0,\n        \"max\": 380000000,\n        \"num_unique_values\": 435,\n        \"samples\": [\n          6900000,\n          68000000,\n          58000000\n        ],\n        \"semantic_type\": \"\",\n        \"description\": \"\"\n      }\n    },\n    {\n      \"column\": \"popularity\",\n      \"properties\": {\n        \"dtype\": \"number\",\n        \"std\": 31,\n        \"min\": 0,\n        \"max\": 875,\n        \"num_unique_values\": 153,\n        \"samples\": [\n          34,\n          101,\n          12\n        ],\n        \"semantic_type\": \"\",\n        \"description\": \"\"\n      }\n    },\n    {\n      \"column\": \"release_date\",\n      \"properties\": {\n        \"dtype\": \"object\",\n        \"num_unique_values\": 3272,\n        \"samples\": [\n          \"1970-10-21\",\n          \"2012-06-06\",\n          \"2000-02-11\"\n        ],\n        \"semantic_type\": \"\",\n        \"description\": \"\"\n      }\n    },\n    {\n      \"column\": \"revenue\",\n      \"properties\": {\n        \"dtype\": \"number\",\n        \"std\": 163237435,\n        \"min\": 0,\n        \"max\": 2787965087,\n        \"num_unique_values\": 3295,\n        \"samples\": [\n          11833696,\n          10462500,\n          19152480\n        ],\n        \"semantic_type\": \"\",\n        \"description\": \"\"\n      }\n    },\n    {\n      \"column\": \"title\",\n      \"properties\": {\n        \"dtype\": \"string\",\n        \"num_unique_values\": 4770,\n        \"samples\": [\n          \"For Love of the Game\",\n          \"Connie and Carla\",\n          \"The Muse\"\n        ],\n        \"semantic_type\": \"\",\n        \"description\": \"\"\n      }\n    },\n    {\n      \"column\": \"vote_average\",\n      \"properties\": {\n        \"dtype\": \"number\",\n        \"std\": 1.1467891383198403,\n        \"min\": 0.0,\n        \"max\": 10.0,\n        \"num_unique_values\": 70,\n        \"samples\": [\n          5.1,\n          7.2,\n          4.0\n        ],\n        \"semantic_type\": \"\",\n        \"description\": \"\"\n      }\n    },\n    {\n      \"column\": \"vote_count\",\n      \"properties\": {\n        \"dtype\": \"number\",\n        \"std\": 1237,\n        \"min\": 0,\n        \"max\": 13752,\n        \"num_unique_values\": 1609,\n        \"samples\": [\n          7604,\n          3428,\n          225\n        ],\n        \"semantic_type\": \"\",\n        \"description\": \"\"\n      }\n    },\n    {\n      \"column\": \"overview\",\n      \"properties\": {\n        \"dtype\": \"string\",\n        \"num_unique_values\": 4770,\n        \"samples\": [\n          \"A baseball legend almost finished with his distinguished career at the age of forty has one last chance to prove who he is, what he is capable of, and win the heart of the woman he has loved for the past four years.\",\n          \"After accidentally witnessing a mafia hit in the Windy City, gal pals Connie and Carla skip town for L.A., where they go way undercover as singers working the city's dinner theater circuit ... as drag queens. Now, it's not enough that they become big hits on the scene; things get extra-weird when Connie meets Jeff -- a guy she'd like to be a woman with\",\n          \"What happens when a screenwriter (Brooks) loses his edge, he turns to anyone he can for help... even if it's the mythical \\\"Zeus's Daughter\\\" (Stone). And he's willing to pay, albeit reluctantly, whatever price it takes to satisfy this goddess, especially when her advice gets him going again on a sure-fire script. However, this is not the limit of her help, she also gets the writer's wife (MacDowell) going on her own bakery enterprise, much to the chagrin of Brooks, who has already had to make many personal sacrifices for his own help.\"\n        ],\n        \"semantic_type\": \"\",\n        \"description\": \"\"\n      }\n    },\n    {\n      \"column\": \"tagline\",\n      \"properties\": {\n        \"dtype\": \"string\",\n        \"num_unique_values\": 3936,\n        \"samples\": [\n          \"Some towns have all the fun.\",\n          \"No air. No escape. No time.\",\n          \"3% Body Fat. 1% Brain Activity.\"\n        ],\n        \"semantic_type\": \"\",\n        \"description\": \"\"\n      }\n    },\n    {\n      \"column\": \"uid\",\n      \"properties\": {\n        \"dtype\": \"number\",\n        \"std\": 87452,\n        \"min\": 5,\n        \"max\": 459488,\n        \"num_unique_values\": 4773,\n        \"samples\": [\n          36668,\n          10808,\n          266857\n        ],\n        \"semantic_type\": \"\",\n        \"description\": \"\"\n      }\n    },\n    {\n      \"column\": \"director_id\",\n      \"properties\": {\n        \"dtype\": \"number\",\n        \"std\": 670,\n        \"min\": 4762,\n        \"max\": 7110,\n        \"num_unique_values\": 2349,\n        \"samples\": [\n          6157,\n          5430,\n          6764\n        ],\n        \"semantic_type\": \"\",\n        \"description\": \"\"\n      }\n    }\n  ]\n}"
            }
          },
          "metadata": {},
          "execution_count": 5
        }
      ]
    },
    {
      "cell_type": "markdown",
      "source": [
        "2.- Obtén los datos de los directores."
      ],
      "metadata": {
        "id": "zHdhvI5Rh8Nh"
      }
    },
    {
      "cell_type": "code",
      "source": [
        "# This line executes a SQL query to select all columns (*) from the 'directors' table\n",
        "# and stores the results in the cursor object\n",
        "cur.execute('SELECT * FROM directors')\n",
        "\n",
        "# This line fetches all the rows from the cursor as a list of tuples\n",
        "directors = cur.fetchall()\n",
        "\n",
        "# This line converts the list of tuples into a pandas DataFrame\n",
        "# Specifying column names (['name', 'id', 'gender', 'uid', 'department']) ensures the data\n",
        "# is placed in the corresponding columns\n",
        "directors = pd.DataFrame(directors, columns=['name', 'id', 'gender', 'uid', 'department'])\n",
        "\n",
        "# This line displays the first 3 rows of the 'directors' DataFrame\n",
        "directors.head(3)"
      ],
      "metadata": {
        "colab": {
          "base_uri": "https://localhost:8080/",
          "height": 143
        },
        "id": "IBClm8L5Y2tH",
        "outputId": "7d968845-8acb-4214-f733-4b7b2392276f"
      },
      "execution_count": 9,
      "outputs": [
        {
          "output_type": "execute_result",
          "data": {
            "text/plain": [
              "             name    id  gender   uid department\n",
              "0   James Cameron  4762       2  2710  Directing\n",
              "1  Gore Verbinski  4763       2  1704  Directing\n",
              "2      Sam Mendes  4764       2    39  Directing"
            ],
            "text/html": [
              "\n",
              "  <div id=\"df-fb3e8f06-0137-464d-9946-67a51779ec93\" class=\"colab-df-container\">\n",
              "    <div>\n",
              "<style scoped>\n",
              "    .dataframe tbody tr th:only-of-type {\n",
              "        vertical-align: middle;\n",
              "    }\n",
              "\n",
              "    .dataframe tbody tr th {\n",
              "        vertical-align: top;\n",
              "    }\n",
              "\n",
              "    .dataframe thead th {\n",
              "        text-align: right;\n",
              "    }\n",
              "</style>\n",
              "<table border=\"1\" class=\"dataframe\">\n",
              "  <thead>\n",
              "    <tr style=\"text-align: right;\">\n",
              "      <th></th>\n",
              "      <th>name</th>\n",
              "      <th>id</th>\n",
              "      <th>gender</th>\n",
              "      <th>uid</th>\n",
              "      <th>department</th>\n",
              "    </tr>\n",
              "  </thead>\n",
              "  <tbody>\n",
              "    <tr>\n",
              "      <th>0</th>\n",
              "      <td>James Cameron</td>\n",
              "      <td>4762</td>\n",
              "      <td>2</td>\n",
              "      <td>2710</td>\n",
              "      <td>Directing</td>\n",
              "    </tr>\n",
              "    <tr>\n",
              "      <th>1</th>\n",
              "      <td>Gore Verbinski</td>\n",
              "      <td>4763</td>\n",
              "      <td>2</td>\n",
              "      <td>1704</td>\n",
              "      <td>Directing</td>\n",
              "    </tr>\n",
              "    <tr>\n",
              "      <th>2</th>\n",
              "      <td>Sam Mendes</td>\n",
              "      <td>4764</td>\n",
              "      <td>2</td>\n",
              "      <td>39</td>\n",
              "      <td>Directing</td>\n",
              "    </tr>\n",
              "  </tbody>\n",
              "</table>\n",
              "</div>\n",
              "    <div class=\"colab-df-buttons\">\n",
              "\n",
              "  <div class=\"colab-df-container\">\n",
              "    <button class=\"colab-df-convert\" onclick=\"convertToInteractive('df-fb3e8f06-0137-464d-9946-67a51779ec93')\"\n",
              "            title=\"Convert this dataframe to an interactive table.\"\n",
              "            style=\"display:none;\">\n",
              "\n",
              "  <svg xmlns=\"http://www.w3.org/2000/svg\" height=\"24px\" viewBox=\"0 -960 960 960\">\n",
              "    <path d=\"M120-120v-720h720v720H120Zm60-500h600v-160H180v160Zm220 220h160v-160H400v160Zm0 220h160v-160H400v160ZM180-400h160v-160H180v160Zm440 0h160v-160H620v160ZM180-180h160v-160H180v160Zm440 0h160v-160H620v160Z\"/>\n",
              "  </svg>\n",
              "    </button>\n",
              "\n",
              "  <style>\n",
              "    .colab-df-container {\n",
              "      display:flex;\n",
              "      gap: 12px;\n",
              "    }\n",
              "\n",
              "    .colab-df-convert {\n",
              "      background-color: #E8F0FE;\n",
              "      border: none;\n",
              "      border-radius: 50%;\n",
              "      cursor: pointer;\n",
              "      display: none;\n",
              "      fill: #1967D2;\n",
              "      height: 32px;\n",
              "      padding: 0 0 0 0;\n",
              "      width: 32px;\n",
              "    }\n",
              "\n",
              "    .colab-df-convert:hover {\n",
              "      background-color: #E2EBFA;\n",
              "      box-shadow: 0px 1px 2px rgba(60, 64, 67, 0.3), 0px 1px 3px 1px rgba(60, 64, 67, 0.15);\n",
              "      fill: #174EA6;\n",
              "    }\n",
              "\n",
              "    .colab-df-buttons div {\n",
              "      margin-bottom: 4px;\n",
              "    }\n",
              "\n",
              "    [theme=dark] .colab-df-convert {\n",
              "      background-color: #3B4455;\n",
              "      fill: #D2E3FC;\n",
              "    }\n",
              "\n",
              "    [theme=dark] .colab-df-convert:hover {\n",
              "      background-color: #434B5C;\n",
              "      box-shadow: 0px 1px 3px 1px rgba(0, 0, 0, 0.15);\n",
              "      filter: drop-shadow(0px 1px 2px rgba(0, 0, 0, 0.3));\n",
              "      fill: #FFFFFF;\n",
              "    }\n",
              "  </style>\n",
              "\n",
              "    <script>\n",
              "      const buttonEl =\n",
              "        document.querySelector('#df-fb3e8f06-0137-464d-9946-67a51779ec93 button.colab-df-convert');\n",
              "      buttonEl.style.display =\n",
              "        google.colab.kernel.accessAllowed ? 'block' : 'none';\n",
              "\n",
              "      async function convertToInteractive(key) {\n",
              "        const element = document.querySelector('#df-fb3e8f06-0137-464d-9946-67a51779ec93');\n",
              "        const dataTable =\n",
              "          await google.colab.kernel.invokeFunction('convertToInteractive',\n",
              "                                                    [key], {});\n",
              "        if (!dataTable) return;\n",
              "\n",
              "        const docLinkHtml = 'Like what you see? Visit the ' +\n",
              "          '<a target=\"_blank\" href=https://colab.research.google.com/notebooks/data_table.ipynb>data table notebook</a>'\n",
              "          + ' to learn more about interactive tables.';\n",
              "        element.innerHTML = '';\n",
              "        dataTable['output_type'] = 'display_data';\n",
              "        await google.colab.output.renderOutput(dataTable, element);\n",
              "        const docLink = document.createElement('div');\n",
              "        docLink.innerHTML = docLinkHtml;\n",
              "        element.appendChild(docLink);\n",
              "      }\n",
              "    </script>\n",
              "  </div>\n",
              "\n",
              "\n",
              "<div id=\"df-abc8fe79-17ef-4f1f-838d-e39a33ade10d\">\n",
              "  <button class=\"colab-df-quickchart\" onclick=\"quickchart('df-abc8fe79-17ef-4f1f-838d-e39a33ade10d')\"\n",
              "            title=\"Suggest charts\"\n",
              "            style=\"display:none;\">\n",
              "\n",
              "<svg xmlns=\"http://www.w3.org/2000/svg\" height=\"24px\"viewBox=\"0 0 24 24\"\n",
              "     width=\"24px\">\n",
              "    <g>\n",
              "        <path d=\"M19 3H5c-1.1 0-2 .9-2 2v14c0 1.1.9 2 2 2h14c1.1 0 2-.9 2-2V5c0-1.1-.9-2-2-2zM9 17H7v-7h2v7zm4 0h-2V7h2v10zm4 0h-2v-4h2v4z\"/>\n",
              "    </g>\n",
              "</svg>\n",
              "  </button>\n",
              "\n",
              "<style>\n",
              "  .colab-df-quickchart {\n",
              "      --bg-color: #E8F0FE;\n",
              "      --fill-color: #1967D2;\n",
              "      --hover-bg-color: #E2EBFA;\n",
              "      --hover-fill-color: #174EA6;\n",
              "      --disabled-fill-color: #AAA;\n",
              "      --disabled-bg-color: #DDD;\n",
              "  }\n",
              "\n",
              "  [theme=dark] .colab-df-quickchart {\n",
              "      --bg-color: #3B4455;\n",
              "      --fill-color: #D2E3FC;\n",
              "      --hover-bg-color: #434B5C;\n",
              "      --hover-fill-color: #FFFFFF;\n",
              "      --disabled-bg-color: #3B4455;\n",
              "      --disabled-fill-color: #666;\n",
              "  }\n",
              "\n",
              "  .colab-df-quickchart {\n",
              "    background-color: var(--bg-color);\n",
              "    border: none;\n",
              "    border-radius: 50%;\n",
              "    cursor: pointer;\n",
              "    display: none;\n",
              "    fill: var(--fill-color);\n",
              "    height: 32px;\n",
              "    padding: 0;\n",
              "    width: 32px;\n",
              "  }\n",
              "\n",
              "  .colab-df-quickchart:hover {\n",
              "    background-color: var(--hover-bg-color);\n",
              "    box-shadow: 0 1px 2px rgba(60, 64, 67, 0.3), 0 1px 3px 1px rgba(60, 64, 67, 0.15);\n",
              "    fill: var(--button-hover-fill-color);\n",
              "  }\n",
              "\n",
              "  .colab-df-quickchart-complete:disabled,\n",
              "  .colab-df-quickchart-complete:disabled:hover {\n",
              "    background-color: var(--disabled-bg-color);\n",
              "    fill: var(--disabled-fill-color);\n",
              "    box-shadow: none;\n",
              "  }\n",
              "\n",
              "  .colab-df-spinner {\n",
              "    border: 2px solid var(--fill-color);\n",
              "    border-color: transparent;\n",
              "    border-bottom-color: var(--fill-color);\n",
              "    animation:\n",
              "      spin 1s steps(1) infinite;\n",
              "  }\n",
              "\n",
              "  @keyframes spin {\n",
              "    0% {\n",
              "      border-color: transparent;\n",
              "      border-bottom-color: var(--fill-color);\n",
              "      border-left-color: var(--fill-color);\n",
              "    }\n",
              "    20% {\n",
              "      border-color: transparent;\n",
              "      border-left-color: var(--fill-color);\n",
              "      border-top-color: var(--fill-color);\n",
              "    }\n",
              "    30% {\n",
              "      border-color: transparent;\n",
              "      border-left-color: var(--fill-color);\n",
              "      border-top-color: var(--fill-color);\n",
              "      border-right-color: var(--fill-color);\n",
              "    }\n",
              "    40% {\n",
              "      border-color: transparent;\n",
              "      border-right-color: var(--fill-color);\n",
              "      border-top-color: var(--fill-color);\n",
              "    }\n",
              "    60% {\n",
              "      border-color: transparent;\n",
              "      border-right-color: var(--fill-color);\n",
              "    }\n",
              "    80% {\n",
              "      border-color: transparent;\n",
              "      border-right-color: var(--fill-color);\n",
              "      border-bottom-color: var(--fill-color);\n",
              "    }\n",
              "    90% {\n",
              "      border-color: transparent;\n",
              "      border-bottom-color: var(--fill-color);\n",
              "    }\n",
              "  }\n",
              "</style>\n",
              "\n",
              "  <script>\n",
              "    async function quickchart(key) {\n",
              "      const quickchartButtonEl =\n",
              "        document.querySelector('#' + key + ' button');\n",
              "      quickchartButtonEl.disabled = true;  // To prevent multiple clicks.\n",
              "      quickchartButtonEl.classList.add('colab-df-spinner');\n",
              "      try {\n",
              "        const charts = await google.colab.kernel.invokeFunction(\n",
              "            'suggestCharts', [key], {});\n",
              "      } catch (error) {\n",
              "        console.error('Error during call to suggestCharts:', error);\n",
              "      }\n",
              "      quickchartButtonEl.classList.remove('colab-df-spinner');\n",
              "      quickchartButtonEl.classList.add('colab-df-quickchart-complete');\n",
              "    }\n",
              "    (() => {\n",
              "      let quickchartButtonEl =\n",
              "        document.querySelector('#df-abc8fe79-17ef-4f1f-838d-e39a33ade10d button');\n",
              "      quickchartButtonEl.style.display =\n",
              "        google.colab.kernel.accessAllowed ? 'block' : 'none';\n",
              "    })();\n",
              "  </script>\n",
              "</div>\n",
              "    </div>\n",
              "  </div>\n"
            ],
            "application/vnd.google.colaboratory.intrinsic+json": {
              "type": "dataframe",
              "variable_name": "directors",
              "summary": "{\n  \"name\": \"directors\",\n  \"rows\": 2349,\n  \"fields\": [\n    {\n      \"column\": \"name\",\n      \"properties\": {\n        \"dtype\": \"string\",\n        \"num_unique_values\": 2349,\n        \"samples\": [\n          \"Hart Bochner\",\n          \"David Wain\",\n          \"Ham Tran\"\n        ],\n        \"semantic_type\": \"\",\n        \"description\": \"\"\n      }\n    },\n    {\n      \"column\": \"id\",\n      \"properties\": {\n        \"dtype\": \"number\",\n        \"std\": 678,\n        \"min\": 4762,\n        \"max\": 7110,\n        \"num_unique_values\": 2349,\n        \"samples\": [\n          6157,\n          5430,\n          6764\n        ],\n        \"semantic_type\": \"\",\n        \"description\": \"\"\n      }\n    },\n    {\n      \"column\": \"gender\",\n      \"properties\": {\n        \"dtype\": \"number\",\n        \"std\": 0,\n        \"min\": 0,\n        \"max\": 2,\n        \"num_unique_values\": 3,\n        \"samples\": [\n          2,\n          0,\n          1\n        ],\n        \"semantic_type\": \"\",\n        \"description\": \"\"\n      }\n    },\n    {\n      \"column\": \"uid\",\n      \"properties\": {\n        \"dtype\": \"number\",\n        \"std\": 371090,\n        \"min\": 1,\n        \"max\": 1867383,\n        \"num_unique_values\": 2349,\n        \"samples\": [\n          7678,\n          22214,\n          143430\n        ],\n        \"semantic_type\": \"\",\n        \"description\": \"\"\n      }\n    },\n    {\n      \"column\": \"department\",\n      \"properties\": {\n        \"dtype\": \"category\",\n        \"num_unique_values\": 1,\n        \"samples\": [\n          \"Directing\"\n        ],\n        \"semantic_type\": \"\",\n        \"description\": \"\"\n      }\n    }\n  ]\n}"
            }
          },
          "metadata": {},
          "execution_count": 9
        }
      ]
    },
    {
      "cell_type": "markdown",
      "source": [
        "3.- ¿Cuántas películas hay en la base de datos?"
      ],
      "metadata": {
        "id": "K7g1-62PiMJG"
      }
    },
    {
      "cell_type": "code",
      "source": [
        "cur.execute('SELECT COUNT (*) from movies;')\n",
        "\n",
        "\n",
        "count = cur.fetchall()\n",
        "print(\"El número de películas es \\t\\t\\t :\",count[0])"
      ],
      "metadata": {
        "colab": {
          "base_uri": "https://localhost:8080/"
        },
        "id": "M3F2T3HmY7x4",
        "outputId": "ed6d795d-e3ea-4c52-9758-d67fe653e71c"
      },
      "execution_count": null,
      "outputs": [
        {
          "output_type": "stream",
          "name": "stdout",
          "text": [
            "El número de películas es \t\t\t : (4773,)\n"
          ]
        }
      ]
    },
    {
      "cell_type": "markdown",
      "source": [
        "4.- Encuentra a los siguientes directores: James Cameron ; Luc Besson ; John Woo."
      ],
      "metadata": {
        "id": "IMsWnG4riZtf"
      }
    },
    {
      "cell_type": "code",
      "source": [
        "cur.execute(\"SELECT * from directors where name == 'James Cameron' or name =='Luc Besson' or name =='John Woo'\")\n",
        "\n",
        "# where - WHERE cláusula para obtener las filas que cumplieron estas condiciones.\n",
        "\n",
        "tres_directors = cur.fetchall()\n",
        "\n",
        "print(\"Los directores: \\t :\",tres_directors)\n"
      ],
      "metadata": {
        "colab": {
          "base_uri": "https://localhost:8080/"
        },
        "id": "8jUIxnIrZAiB",
        "outputId": "b124f6ce-734a-49d0-9467-9b325d58fc2f"
      },
      "execution_count": null,
      "outputs": [
        {
          "output_type": "stream",
          "name": "stdout",
          "text": [
            "Los directores: \t : [('James Cameron', 4762, 2, 2710, 'Directing'), ('John Woo', 4893, 2, 11401, 'Directing'), ('Luc Besson', 4949, 2, 59, 'Directing')]\n"
          ]
        }
      ]
    },
    {
      "cell_type": "markdown",
      "source": [
        "5.- Busca todos los directores con nombres que comienzan con Steven"
      ],
      "metadata": {
        "id": "Co6gu3hKizNw"
      }
    },
    {
      "cell_type": "code",
      "source": [
        "cur.execute(\"SELECT * from directors where name LIKE 'Steven%'\")\n",
        "\n",
        "#LIKE  - LIKE El operador distingue entre mayúsculas y minúsculas, funciona como si los nombres comenzaran con una palabra en particular deberían coincidir.\n",
        "\n",
        "# El patrón d% que utiliza el comodín del signo de porcentaje ( %) coincide con cualquier cadena que comience con s e.g.,danger and dance,door.\n",
        "\n",
        "\n",
        "name_like = cur.fetchall()\n",
        "print(\"TLos nombres son: \\n \\t\", name_like)"
      ],
      "metadata": {
        "colab": {
          "base_uri": "https://localhost:8080/"
        },
        "id": "wpw-pVuEZD8W",
        "outputId": "7af3d255-07a4-4f32-b962-2450913ce1d1"
      },
      "execution_count": null,
      "outputs": [
        {
          "output_type": "stream",
          "name": "stdout",
          "text": [
            "TLos nombres son: \n",
            " \t [('Steven Spielberg', 4799, 2, 488, 'Directing'), ('Steven Soderbergh', 4909, 2, 1884, 'Directing'), ('Steven Brill', 5013, 2, 32593, 'Directing'), ('Steven Zaillian', 5117, 2, 2260, 'Directing'), ('Steven Quale', 5216, 2, 93214, 'Directing'), ('Steven Seagal', 5221, 2, 23880, 'Directing'), ('Steven E. de Souza', 5390, 2, 1726, 'Directing'), ('Steven Shainberg', 5803, 2, 67795, 'Directing'), ('Steven R. Monroe', 6713, 2, 88039, 'Directing')]\n"
          ]
        }
      ]
    },
    {
      "cell_type": "markdown",
      "source": [
        "6.- Cuente el número de directoras."
      ],
      "metadata": {
        "id": "a2cEaXPsjWJD"
      }
    },
    {
      "cell_type": "code",
      "source": [
        "# Execute the query to count female directors (assuming gender: 1 represents female)\n",
        "cur.execute(\"SELECT COUNT(*) FROM directors WHERE gender == 1\")\n",
        "\n",
        "# Fetch the count as a single value (assuming a single-column result)\n",
        "female_director_count = cur.fetchone()[0]\n",
        "\n",
        "# Print the result in a clear and informative way\n",
        "print(\"El número de directoras son:\", female_director_count)\n"
      ],
      "metadata": {
        "colab": {
          "base_uri": "https://localhost:8080/"
        },
        "id": "u-QVB8IiZHAq",
        "outputId": "239d24fc-6963-4be7-a487-fff61ce3c42e"
      },
      "execution_count": 10,
      "outputs": [
        {
          "output_type": "stream",
          "name": "stdout",
          "text": [
            "El número de directoras son: 150\n"
          ]
        }
      ]
    },
    {
      "cell_type": "markdown",
      "source": [
        "7.- ¿Encuentra el nombre de la décima primera mujer directora?"
      ],
      "metadata": {
        "id": "EBtQa3cFjreR"
      }
    },
    {
      "cell_type": "code",
      "source": [
        "cur.execute(\"SELECT name FROM directors WHERE gender == 1 ORDER by id asc limit 1 OFFSET 10\")\n",
        "\n",
        "#ORDER by - Para ordenar los datos usamos orden por, ascendente (asc) O descendente (dsc)\n",
        "#LIMIT -  LIMIT cláusula para limitar el número de filas devueltas por la consulta.\n",
        "\n",
        "# LIMIT_OFFSET - cláusula para obtener la enésima fila más alta o la enésima más baja\n",
        "tenth= cur.fetchall()\n",
        "print(\"TEl nombre es: \\n\\n \\t\", tenth[0])"
      ],
      "metadata": {
        "colab": {
          "base_uri": "https://localhost:8080/"
        },
        "id": "XWO6_VyJZNDF",
        "outputId": "cfdddb01-2c55-4316-87b9-f3622dbb2326"
      },
      "execution_count": null,
      "outputs": [
        {
          "output_type": "stream",
          "name": "stdout",
          "text": [
            "TEl nombre es: \n",
            "\n",
            " \t ('Karyn Kusama',)\n"
          ]
        }
      ]
    },
    {
      "cell_type": "markdown",
      "source": [
        "8.- ¿Cuáles son las tres películas más populares?"
      ],
      "metadata": {
        "id": "WEYvxlZlkF_4"
      }
    },
    {
      "cell_type": "code",
      "source": [
        "# Execute the SQL query to retrieve the most popular movie titles\n",
        "cur.execute(\"SELECT original_title FROM movies ORDER BY popularity DESC LIMIT 3\")\n",
        "\n",
        "# Fetch the results into a list\n",
        "most_popular = cur.fetchall()\n",
        "\n",
        "# Print the results in a user-friendly format\n",
        "print(\"Las tres películas más populares son: \\n\\n\")  # Clear heading with spacing\n",
        "\n",
        "# Iterate through the fetched titles and print them with proper formatting\n",
        "for title in most_popular:\n",
        "    print(\"\\t\", title[0])  # Access the first element (title) from each tuple\n"
      ],
      "metadata": {
        "colab": {
          "base_uri": "https://localhost:8080/"
        },
        "id": "asaFzm-FZKF8",
        "outputId": "4e885a3d-3189-4b3a-972e-174549023900"
      },
      "execution_count": 11,
      "outputs": [
        {
          "output_type": "stream",
          "name": "stdout",
          "text": [
            "Las tres películas más populares son: \n",
            "\n",
            "\n",
            "\t Minions\n",
            "\t Interstellar\n",
            "\t Deadpool\n"
          ]
        }
      ]
    },
    {
      "cell_type": "markdown",
      "source": [
        "9.- ¿Cuáles son las 3 películas más rentables?"
      ],
      "metadata": {
        "id": "JesHLBXYkZwq"
      }
    },
    {
      "cell_type": "code",
      "source": [
        "# This line executes a SQL query to the cursor object\n",
        "cur.execute(\"SELECT * FROM movies ORDER BY budget DESC LIMIT 3\")\n",
        "\n",
        "# Explanation of the query:\n",
        "#   - SELECT * : This selects all columns from the \"movies\" table.\n",
        "#   - FROM movies : This specifies the table from which data will be retrieved.\n",
        "#   - ORDER BY budget DESC : This orders the results by the \"budget\" column in descending order (highest to lowest).\n",
        "#   - LIMIT 3 : This limits the number of returned rows to 3.\n",
        "\n",
        "# This line fetches all the results of the query as a list of tuples\n",
        "most_bankable = cur.fetchall()\n",
        "\n",
        "# Explanation:\n",
        "#   - cur.fetchall(): This method fetches all remaining rows of the query result as a list of tuples.\n",
        "#   - most_bankable: This variable stores the retrieved list of tuples.\n",
        "\n",
        "# This line prints a message and the list of movie titles\n",
        "print(\"Las tres peliculas con mayor presupuesto son: \\n\\n \\t\", most_bankable)\n",
        "\n",
        "# Explanation:\n",
        "#   - print: This function outputs a message to the console.\n",
        "#     - \"Las tres peliculas con mayor presupuesto son: \\n\\n \\t\": This is the message displayed, formatted for readability.\n",
        "#           - \\n\\n: Inserts two newlines for spacing.\n",
        "#           - \\t: Inserts a tab for indentation.\n",
        "#     - most_bankable: This variable is used to display the list of movie titles retrieved from the database.\n"
      ],
      "metadata": {
        "colab": {
          "base_uri": "https://localhost:8080/"
        },
        "id": "rlksYTSOZQdT",
        "outputId": "acfa6e85-a38f-4d64-dc1b-db3e8e39d3ad"
      },
      "execution_count": 12,
      "outputs": [
        {
          "output_type": "stream",
          "name": "stdout",
          "text": [
            "Las tres peliculas con mayor presupuesto son: \n",
            "\n",
            " \t [(43614, 'Pirates of the Caribbean: On Stranger Tides', 380000000, 135, '2011-05-14', 1045713802, 'Pirates of the Caribbean: On Stranger Tides', 6.4, 4948, \"Captain Jack Sparrow crosses paths with a woman from his past, and he's not sure if it's love -- or if she's a ruthless con artist who's using him to find the fabled Fountain of Youth. When she forces him aboard the Queen Anne's Revenge, the ship of the formidable pirate Blackbeard, Jack finds himself on an unexpected adventure in which he doesn't know who to fear more: Blackbeard or the woman from his past.\", 'Live Forever Or Die Trying.', 1865, 4775), (43598, \"Pirates of the Caribbean: At World's End\", 300000000, 139, '2007-05-19', 961000000, \"Pirates of the Caribbean: At World's End\", 6.9, 4500, 'Captain Barbossa, long believed to be dead, has come back to life and is headed to the edge of the Earth with Will Turner and Elizabeth Swann. But nothing is quite as it seems.', 'At the end of the world, the adventure begins.', 285, 4763), (43604, 'Avengers: Age of Ultron', 280000000, 134, '2015-04-22', 1405403694, 'Avengers: Age of Ultron', 7.3, 6767, 'When Tony Stark tries to jumpstart a dormant peacekeeping program, things go awry and Earth’s Mightiest Heroes are put to the ultimate test as the fate of the planet hangs in the balance. As the villainous Ultron emerges, it is up to The Avengers to stop him from enacting his terrible plans, and soon uneasy alliances and unexpected action pave the way for an epic and unique global adventure.', 'A New Age Has Come.', 99861, 4769)]\n"
          ]
        }
      ]
    },
    {
      "cell_type": "markdown",
      "source": [
        "10.- Explica de manera detallada cómo funcionan los JOINS en SQL. Puedes tomar de referencia lo siguiente:\n",
        "\n",
        "\n",
        "*   https://www.techonthenet.com/sqlite/joins.php\n",
        "*   https://www.tutorialspoint.com/sqlite/sqlite_using_joins.htm\n",
        "\n"
      ],
      "metadata": {
        "id": "9ZJYdkaYZacb"
      }
    },
    {
      "cell_type": "markdown",
      "source": [
        "10.- ¿Qué películas fueron dirigidas por Brenda Chapman?"
      ],
      "metadata": {
        "id": "uaBgpIo5lsnm"
      }
    },
    {
      "cell_type": "code",
      "source": [
        "# Esta consulta SQL selecciona el título original (\"original_title\") de la tabla \"movies\"\n",
        "# uniéndose a la tabla \"directors\" en el id del director (\"director_id\")\n",
        "# donde el nombre del director (\"name\") sea igual a 'Brenda Chapman'\n",
        "cur.execute(\"SELECT original_title FROM movies JOIN directors ON directors.id = movies.director_id WHERE directors.name = 'Brenda Chapman';\")\n",
        "\n",
        "# Se almacenan los resultados de la consulta en la variable \"directed_by\"\n",
        "directed_by= cur.fetchall()\n",
        "\n",
        "# Se imprime \"Brenda Chapman\" seguido de un salto de línea\n",
        "print(\"Brenda Chapman \\n\\n \\t\")\n",
        "\n",
        "# Se imprime el contenido de la variable \"directed_by\", que contiene los títulos de las películas dirigidas por Brenda Chapman\n",
        "print(directed_by)\n"
      ],
      "metadata": {
        "colab": {
          "base_uri": "https://localhost:8080/"
        },
        "id": "VlzjNNBhZW2_",
        "outputId": "b212cfa8-3818-4273-f5a9-8ac8b8a4e403"
      },
      "execution_count": 13,
      "outputs": [
        {
          "output_type": "stream",
          "name": "stdout",
          "text": [
            "Brenda Chapman \n",
            "\n",
            " \t\n",
            "[('Brave',)]\n"
          ]
        }
      ]
    },
    {
      "cell_type": "markdown",
      "source": [
        "11.- ¿Qué director ha realizado más películas?"
      ],
      "metadata": {
        "id": "5a1FoRvAl9HO"
      }
    },
    {
      "cell_type": "code",
      "source": [
        "# This code retrieves the name of the director with the most movies in the database\n",
        "\n",
        "cur.execute(\"SELECT name FROM directors JOIN movies ON directors.id = movies.director_id GROUP BY director_id ORDER BY count(name) DESC limit 1;\")\n",
        "\n",
        "# Fetches the director's name from the database\n",
        "directed_by = cur.fetchall()\n",
        "\n",
        "# Print the result formatted for readability\n",
        "print(\"El director con más películas \\n\\n \\t\", directed_by)\n"
      ],
      "metadata": {
        "colab": {
          "base_uri": "https://localhost:8080/"
        },
        "id": "q0fChBByZbWi",
        "outputId": "794f2591-0f05-40bb-c5e4-e6f19af1165d"
      },
      "execution_count": 14,
      "outputs": [
        {
          "output_type": "stream",
          "name": "stdout",
          "text": [
            "El director con más películas \n",
            "\n",
            " \t [('Steven Spielberg',)]\n"
          ]
        }
      ]
    },
    {
      "cell_type": "markdown",
      "source": [
        "12.- Enumere las 10 películas más populares"
      ],
      "metadata": {
        "id": "8zLMXsvsmZUZ"
      }
    },
    {
      "cell_type": "code",
      "source": [
        "# This line executes a SQL query to retrieve data from two tables:\n",
        "# - movies: Contains information about movies, including original title, release date, popularity, revenue, and a foreign key `director_id` referencing the directors table.\n",
        "# - directors: Stores details about directors, including their name and a primary key `id`.\n",
        "# The `JOIN` clause combines data from both tables based on the matching `director_id` values.\n",
        "# The `ORDER BY popularity DESC` clause sorts the results in descending order of popularity.\n",
        "cur.execute('SELECT original_title, name, release_date, popularity, revenue FROM movies JOIN directors ON movies.director_id = directors.id ORDER BY popularity DESC')\n",
        "\n",
        "# This line fetches all rows of data returned by the cursor object `cur`.\n",
        "# The fetched data is typically a list of tuples, where each tuple represents a row in the result set.\n",
        "mostPopular = cur.fetchall()\n",
        "\n",
        "# This line converts the list of tuples into a pandas DataFrame for easier manipulation and analysis.\n",
        "# The column names are explicitly provided using the `columns` parameter to ensure clarity.\n",
        "mostPopular = pd.DataFrame(mostPopular, columns=['original_title', 'director_name', 'release_date', 'popularity', 'revenue'])\n",
        "\n",
        "# This line displays the first 10 rows (the most popular movies) of the DataFrame `mostPopular`.\n",
        "print(mostPopular.head(10))\n"
      ],
      "metadata": {
        "colab": {
          "base_uri": "https://localhost:8080/"
        },
        "id": "UqJ6VKQKZlgE",
        "outputId": "d3182a9d-006a-401d-a430-86ff36c506b1"
      },
      "execution_count": 15,
      "outputs": [
        {
          "output_type": "stream",
          "name": "stdout",
          "text": [
            "                                      original_title      director_name  \\\n",
            "0                                            Minions         Kyle Balda   \n",
            "1                                       Interstellar  Christopher Nolan   \n",
            "2                                           Deadpool         Tim Miller   \n",
            "3                            Guardians of the Galaxy         James Gunn   \n",
            "4                                 Mad Max: Fury Road      George Miller   \n",
            "5                                     Jurassic World    Colin Trevorrow   \n",
            "6  Pirates of the Caribbean: The Curse of the Bla...     Gore Verbinski   \n",
            "7                     Dawn of the Planet of the Apes        Matt Reeves   \n",
            "8              The Hunger Games: Mockingjay - Part 1   Francis Lawrence   \n",
            "9                                         Big Hero 6     Chris Williams   \n",
            "\n",
            "  release_date  popularity     revenue  \n",
            "0   2015-06-17         875  1156730962  \n",
            "1   2014-11-05         724   675120017  \n",
            "2   2016-02-09         514   783112979  \n",
            "3   2014-07-30         481   773328629  \n",
            "4   2015-05-13         434   378858340  \n",
            "5   2015-06-09         418  1513528810  \n",
            "6   2003-07-09         271   655011224  \n",
            "7   2014-06-26         243   710644566  \n",
            "8   2014-11-18         206   752100229  \n",
            "9   2014-10-24         203   652105443  \n"
          ]
        }
      ]
    },
    {
      "cell_type": "markdown",
      "source": [
        "13.- ¿Cuáles son las 10 películas con mayores ingresos?"
      ],
      "metadata": {
        "id": "dHEeb0l_mkDs"
      }
    },
    {
      "cell_type": "code",
      "source": [
        "# This line executes a SQL query that retrieves data from two tables:\n",
        "#   - movies: contains information about movies, including original title, release date, and revenue\n",
        "#   - directors: contains information about directors, including their name\n",
        "# The JOIN clause connects these tables based on the director_id field (foreign key in movies table referencing primary key in directors table)\n",
        "# The query selects the following columns:\n",
        "#   - original_title: The original title of the movie\n",
        "#   - name: The name of the director\n",
        "#   - release_date: The release date of the movie\n",
        "#   - revenue: The revenue generated by the movie\n",
        "# The ORDER BY clause sorts the results in descending order by revenue (highest grossing movies first)\n",
        "cur.execute('SELECT original_title, name, release_date, revenue FROM movies JOIN directors ON movies.director_id = directors.id ORDER BY revenue DESC')\n",
        "\n",
        "# This line fetches all rows from the query result set and stores them in a list named mostProfit\n",
        "mostProfit = cur.fetchall()\n",
        "\n",
        "# This line converts the list of results (mostProfit) into a pandas DataFrame object\n",
        "# A DataFrame is a tabular data structure with labeled columns\n",
        "# The columns are named based on the list provided (['original_title', 'director_name', 'release_date', 'revenue'])\n",
        "# This makes the data easier to manipulate and analyze\n",
        "mostProfit = pd.DataFrame(mostProfit, columns = ['original_title', 'director_name', 'release_date', 'revenue'])\n",
        "\n",
        "# This line displays the first 10 rows of the DataFrame (mostProfit)\n",
        "# This provides a glimpse of the top 10 highest grossing movies and their corresponding directors\n",
        "mostProfit.head(10)\n"
      ],
      "metadata": {
        "colab": {
          "base_uri": "https://localhost:8080/",
          "height": 363
        },
        "id": "Jb5Cb6TuZo0H",
        "outputId": "e04ff212-132a-4cf0-fdfd-041bd15f5ebd"
      },
      "execution_count": 16,
      "outputs": [
        {
          "output_type": "execute_result",
          "data": {
            "text/plain": [
              "               original_title    director_name release_date     revenue\n",
              "0                      Avatar    James Cameron   2009-12-10  2787965087\n",
              "1                     Titanic    James Cameron   1997-11-18  1845034188\n",
              "2                The Avengers      Joss Whedon   2012-04-25  1519557910\n",
              "3              Jurassic World  Colin Trevorrow   2015-06-09  1513528810\n",
              "4                   Furious 7        James Wan   2015-04-01  1506249360\n",
              "5     Avengers: Age of Ultron      Joss Whedon   2015-04-22  1405403694\n",
              "6                      Frozen       Chris Buck   2013-11-27  1274219009\n",
              "7                  Iron Man 3      Shane Black   2013-04-18  1215439994\n",
              "8                     Minions       Kyle Balda   2015-06-17  1156730962\n",
              "9  Captain America: Civil War    Anthony Russo   2016-04-27  1153304495"
            ],
            "text/html": [
              "\n",
              "  <div id=\"df-2f0001dd-6ae5-4bbb-a174-392ea6ac5b47\" class=\"colab-df-container\">\n",
              "    <div>\n",
              "<style scoped>\n",
              "    .dataframe tbody tr th:only-of-type {\n",
              "        vertical-align: middle;\n",
              "    }\n",
              "\n",
              "    .dataframe tbody tr th {\n",
              "        vertical-align: top;\n",
              "    }\n",
              "\n",
              "    .dataframe thead th {\n",
              "        text-align: right;\n",
              "    }\n",
              "</style>\n",
              "<table border=\"1\" class=\"dataframe\">\n",
              "  <thead>\n",
              "    <tr style=\"text-align: right;\">\n",
              "      <th></th>\n",
              "      <th>original_title</th>\n",
              "      <th>director_name</th>\n",
              "      <th>release_date</th>\n",
              "      <th>revenue</th>\n",
              "    </tr>\n",
              "  </thead>\n",
              "  <tbody>\n",
              "    <tr>\n",
              "      <th>0</th>\n",
              "      <td>Avatar</td>\n",
              "      <td>James Cameron</td>\n",
              "      <td>2009-12-10</td>\n",
              "      <td>2787965087</td>\n",
              "    </tr>\n",
              "    <tr>\n",
              "      <th>1</th>\n",
              "      <td>Titanic</td>\n",
              "      <td>James Cameron</td>\n",
              "      <td>1997-11-18</td>\n",
              "      <td>1845034188</td>\n",
              "    </tr>\n",
              "    <tr>\n",
              "      <th>2</th>\n",
              "      <td>The Avengers</td>\n",
              "      <td>Joss Whedon</td>\n",
              "      <td>2012-04-25</td>\n",
              "      <td>1519557910</td>\n",
              "    </tr>\n",
              "    <tr>\n",
              "      <th>3</th>\n",
              "      <td>Jurassic World</td>\n",
              "      <td>Colin Trevorrow</td>\n",
              "      <td>2015-06-09</td>\n",
              "      <td>1513528810</td>\n",
              "    </tr>\n",
              "    <tr>\n",
              "      <th>4</th>\n",
              "      <td>Furious 7</td>\n",
              "      <td>James Wan</td>\n",
              "      <td>2015-04-01</td>\n",
              "      <td>1506249360</td>\n",
              "    </tr>\n",
              "    <tr>\n",
              "      <th>5</th>\n",
              "      <td>Avengers: Age of Ultron</td>\n",
              "      <td>Joss Whedon</td>\n",
              "      <td>2015-04-22</td>\n",
              "      <td>1405403694</td>\n",
              "    </tr>\n",
              "    <tr>\n",
              "      <th>6</th>\n",
              "      <td>Frozen</td>\n",
              "      <td>Chris Buck</td>\n",
              "      <td>2013-11-27</td>\n",
              "      <td>1274219009</td>\n",
              "    </tr>\n",
              "    <tr>\n",
              "      <th>7</th>\n",
              "      <td>Iron Man 3</td>\n",
              "      <td>Shane Black</td>\n",
              "      <td>2013-04-18</td>\n",
              "      <td>1215439994</td>\n",
              "    </tr>\n",
              "    <tr>\n",
              "      <th>8</th>\n",
              "      <td>Minions</td>\n",
              "      <td>Kyle Balda</td>\n",
              "      <td>2015-06-17</td>\n",
              "      <td>1156730962</td>\n",
              "    </tr>\n",
              "    <tr>\n",
              "      <th>9</th>\n",
              "      <td>Captain America: Civil War</td>\n",
              "      <td>Anthony Russo</td>\n",
              "      <td>2016-04-27</td>\n",
              "      <td>1153304495</td>\n",
              "    </tr>\n",
              "  </tbody>\n",
              "</table>\n",
              "</div>\n",
              "    <div class=\"colab-df-buttons\">\n",
              "\n",
              "  <div class=\"colab-df-container\">\n",
              "    <button class=\"colab-df-convert\" onclick=\"convertToInteractive('df-2f0001dd-6ae5-4bbb-a174-392ea6ac5b47')\"\n",
              "            title=\"Convert this dataframe to an interactive table.\"\n",
              "            style=\"display:none;\">\n",
              "\n",
              "  <svg xmlns=\"http://www.w3.org/2000/svg\" height=\"24px\" viewBox=\"0 -960 960 960\">\n",
              "    <path d=\"M120-120v-720h720v720H120Zm60-500h600v-160H180v160Zm220 220h160v-160H400v160Zm0 220h160v-160H400v160ZM180-400h160v-160H180v160Zm440 0h160v-160H620v160ZM180-180h160v-160H180v160Zm440 0h160v-160H620v160Z\"/>\n",
              "  </svg>\n",
              "    </button>\n",
              "\n",
              "  <style>\n",
              "    .colab-df-container {\n",
              "      display:flex;\n",
              "      gap: 12px;\n",
              "    }\n",
              "\n",
              "    .colab-df-convert {\n",
              "      background-color: #E8F0FE;\n",
              "      border: none;\n",
              "      border-radius: 50%;\n",
              "      cursor: pointer;\n",
              "      display: none;\n",
              "      fill: #1967D2;\n",
              "      height: 32px;\n",
              "      padding: 0 0 0 0;\n",
              "      width: 32px;\n",
              "    }\n",
              "\n",
              "    .colab-df-convert:hover {\n",
              "      background-color: #E2EBFA;\n",
              "      box-shadow: 0px 1px 2px rgba(60, 64, 67, 0.3), 0px 1px 3px 1px rgba(60, 64, 67, 0.15);\n",
              "      fill: #174EA6;\n",
              "    }\n",
              "\n",
              "    .colab-df-buttons div {\n",
              "      margin-bottom: 4px;\n",
              "    }\n",
              "\n",
              "    [theme=dark] .colab-df-convert {\n",
              "      background-color: #3B4455;\n",
              "      fill: #D2E3FC;\n",
              "    }\n",
              "\n",
              "    [theme=dark] .colab-df-convert:hover {\n",
              "      background-color: #434B5C;\n",
              "      box-shadow: 0px 1px 3px 1px rgba(0, 0, 0, 0.15);\n",
              "      filter: drop-shadow(0px 1px 2px rgba(0, 0, 0, 0.3));\n",
              "      fill: #FFFFFF;\n",
              "    }\n",
              "  </style>\n",
              "\n",
              "    <script>\n",
              "      const buttonEl =\n",
              "        document.querySelector('#df-2f0001dd-6ae5-4bbb-a174-392ea6ac5b47 button.colab-df-convert');\n",
              "      buttonEl.style.display =\n",
              "        google.colab.kernel.accessAllowed ? 'block' : 'none';\n",
              "\n",
              "      async function convertToInteractive(key) {\n",
              "        const element = document.querySelector('#df-2f0001dd-6ae5-4bbb-a174-392ea6ac5b47');\n",
              "        const dataTable =\n",
              "          await google.colab.kernel.invokeFunction('convertToInteractive',\n",
              "                                                    [key], {});\n",
              "        if (!dataTable) return;\n",
              "\n",
              "        const docLinkHtml = 'Like what you see? Visit the ' +\n",
              "          '<a target=\"_blank\" href=https://colab.research.google.com/notebooks/data_table.ipynb>data table notebook</a>'\n",
              "          + ' to learn more about interactive tables.';\n",
              "        element.innerHTML = '';\n",
              "        dataTable['output_type'] = 'display_data';\n",
              "        await google.colab.output.renderOutput(dataTable, element);\n",
              "        const docLink = document.createElement('div');\n",
              "        docLink.innerHTML = docLinkHtml;\n",
              "        element.appendChild(docLink);\n",
              "      }\n",
              "    </script>\n",
              "  </div>\n",
              "\n",
              "\n",
              "<div id=\"df-967fc96f-7d9f-48d6-a2c4-ae790d45f95d\">\n",
              "  <button class=\"colab-df-quickchart\" onclick=\"quickchart('df-967fc96f-7d9f-48d6-a2c4-ae790d45f95d')\"\n",
              "            title=\"Suggest charts\"\n",
              "            style=\"display:none;\">\n",
              "\n",
              "<svg xmlns=\"http://www.w3.org/2000/svg\" height=\"24px\"viewBox=\"0 0 24 24\"\n",
              "     width=\"24px\">\n",
              "    <g>\n",
              "        <path d=\"M19 3H5c-1.1 0-2 .9-2 2v14c0 1.1.9 2 2 2h14c1.1 0 2-.9 2-2V5c0-1.1-.9-2-2-2zM9 17H7v-7h2v7zm4 0h-2V7h2v10zm4 0h-2v-4h2v4z\"/>\n",
              "    </g>\n",
              "</svg>\n",
              "  </button>\n",
              "\n",
              "<style>\n",
              "  .colab-df-quickchart {\n",
              "      --bg-color: #E8F0FE;\n",
              "      --fill-color: #1967D2;\n",
              "      --hover-bg-color: #E2EBFA;\n",
              "      --hover-fill-color: #174EA6;\n",
              "      --disabled-fill-color: #AAA;\n",
              "      --disabled-bg-color: #DDD;\n",
              "  }\n",
              "\n",
              "  [theme=dark] .colab-df-quickchart {\n",
              "      --bg-color: #3B4455;\n",
              "      --fill-color: #D2E3FC;\n",
              "      --hover-bg-color: #434B5C;\n",
              "      --hover-fill-color: #FFFFFF;\n",
              "      --disabled-bg-color: #3B4455;\n",
              "      --disabled-fill-color: #666;\n",
              "  }\n",
              "\n",
              "  .colab-df-quickchart {\n",
              "    background-color: var(--bg-color);\n",
              "    border: none;\n",
              "    border-radius: 50%;\n",
              "    cursor: pointer;\n",
              "    display: none;\n",
              "    fill: var(--fill-color);\n",
              "    height: 32px;\n",
              "    padding: 0;\n",
              "    width: 32px;\n",
              "  }\n",
              "\n",
              "  .colab-df-quickchart:hover {\n",
              "    background-color: var(--hover-bg-color);\n",
              "    box-shadow: 0 1px 2px rgba(60, 64, 67, 0.3), 0 1px 3px 1px rgba(60, 64, 67, 0.15);\n",
              "    fill: var(--button-hover-fill-color);\n",
              "  }\n",
              "\n",
              "  .colab-df-quickchart-complete:disabled,\n",
              "  .colab-df-quickchart-complete:disabled:hover {\n",
              "    background-color: var(--disabled-bg-color);\n",
              "    fill: var(--disabled-fill-color);\n",
              "    box-shadow: none;\n",
              "  }\n",
              "\n",
              "  .colab-df-spinner {\n",
              "    border: 2px solid var(--fill-color);\n",
              "    border-color: transparent;\n",
              "    border-bottom-color: var(--fill-color);\n",
              "    animation:\n",
              "      spin 1s steps(1) infinite;\n",
              "  }\n",
              "\n",
              "  @keyframes spin {\n",
              "    0% {\n",
              "      border-color: transparent;\n",
              "      border-bottom-color: var(--fill-color);\n",
              "      border-left-color: var(--fill-color);\n",
              "    }\n",
              "    20% {\n",
              "      border-color: transparent;\n",
              "      border-left-color: var(--fill-color);\n",
              "      border-top-color: var(--fill-color);\n",
              "    }\n",
              "    30% {\n",
              "      border-color: transparent;\n",
              "      border-left-color: var(--fill-color);\n",
              "      border-top-color: var(--fill-color);\n",
              "      border-right-color: var(--fill-color);\n",
              "    }\n",
              "    40% {\n",
              "      border-color: transparent;\n",
              "      border-right-color: var(--fill-color);\n",
              "      border-top-color: var(--fill-color);\n",
              "    }\n",
              "    60% {\n",
              "      border-color: transparent;\n",
              "      border-right-color: var(--fill-color);\n",
              "    }\n",
              "    80% {\n",
              "      border-color: transparent;\n",
              "      border-right-color: var(--fill-color);\n",
              "      border-bottom-color: var(--fill-color);\n",
              "    }\n",
              "    90% {\n",
              "      border-color: transparent;\n",
              "      border-bottom-color: var(--fill-color);\n",
              "    }\n",
              "  }\n",
              "</style>\n",
              "\n",
              "  <script>\n",
              "    async function quickchart(key) {\n",
              "      const quickchartButtonEl =\n",
              "        document.querySelector('#' + key + ' button');\n",
              "      quickchartButtonEl.disabled = true;  // To prevent multiple clicks.\n",
              "      quickchartButtonEl.classList.add('colab-df-spinner');\n",
              "      try {\n",
              "        const charts = await google.colab.kernel.invokeFunction(\n",
              "            'suggestCharts', [key], {});\n",
              "      } catch (error) {\n",
              "        console.error('Error during call to suggestCharts:', error);\n",
              "      }\n",
              "      quickchartButtonEl.classList.remove('colab-df-spinner');\n",
              "      quickchartButtonEl.classList.add('colab-df-quickchart-complete');\n",
              "    }\n",
              "    (() => {\n",
              "      let quickchartButtonEl =\n",
              "        document.querySelector('#df-967fc96f-7d9f-48d6-a2c4-ae790d45f95d button');\n",
              "      quickchartButtonEl.style.display =\n",
              "        google.colab.kernel.accessAllowed ? 'block' : 'none';\n",
              "    })();\n",
              "  </script>\n",
              "</div>\n",
              "    </div>\n",
              "  </div>\n"
            ],
            "application/vnd.google.colaboratory.intrinsic+json": {
              "type": "dataframe",
              "variable_name": "mostProfit",
              "summary": "{\n  \"name\": \"mostProfit\",\n  \"rows\": 4773,\n  \"fields\": [\n    {\n      \"column\": \"original_title\",\n      \"properties\": {\n        \"dtype\": \"string\",\n        \"num_unique_values\": 4771,\n        \"samples\": [\n          \"Sahara\",\n          \"Barney's Great Adventure\",\n          \"One Night with the King\"\n        ],\n        \"semantic_type\": \"\",\n        \"description\": \"\"\n      }\n    },\n    {\n      \"column\": \"director_name\",\n      \"properties\": {\n        \"dtype\": \"category\",\n        \"num_unique_values\": 2349,\n        \"samples\": [\n          \"Fenton Bailey\",\n          \"Bille Woodruff\",\n          \"Petter N\\u00e6ss\"\n        ],\n        \"semantic_type\": \"\",\n        \"description\": \"\"\n      }\n    },\n    {\n      \"column\": \"release_date\",\n      \"properties\": {\n        \"dtype\": \"object\",\n        \"num_unique_values\": 3272,\n        \"samples\": [\n          \"2014-06-22\",\n          \"2004-12-22\",\n          \"2016-01-14\"\n        ],\n        \"semantic_type\": \"\",\n        \"description\": \"\"\n      }\n    },\n    {\n      \"column\": \"revenue\",\n      \"properties\": {\n        \"dtype\": \"number\",\n        \"std\": 163237435,\n        \"min\": 0,\n        \"max\": 2787965087,\n        \"num_unique_values\": 3295,\n        \"samples\": [\n          1072602,\n          500000,\n          1053788\n        ],\n        \"semantic_type\": \"\",\n        \"description\": \"\"\n      }\n    }\n  ]\n}"
            }
          },
          "metadata": {},
          "execution_count": 16
        }
      ]
    },
    {
      "cell_type": "markdown",
      "source": [
        "14.- ¿Películas de James Cameron?"
      ],
      "metadata": {
        "id": "ABM-VHBNm9kg"
      }
    },
    {
      "cell_type": "code",
      "source": [
        "# This code retrieves movies directed by James Cameron from a database\n",
        "\n",
        "# The following line executes a SQL query to a database\n",
        "cur.execute('SELECT original_title, release_date, budget, revenue, popularity, vote_average FROM directors JOIN movies ON directors.id = movies.director_id WHERE name = \"James Cameron\" ORDER BY revenue DESC')\n",
        "\n",
        "# This line fetches all results of the executed query\n",
        "moviesByJamesCameron = cur.fetchall()\n",
        "\n",
        "# This line converts the fetched results (list of tuples) into a pandas DataFrame\n",
        "# and assigns column names to each column\n",
        "moviesByJamesCameron = pd.DataFrame(moviesByJamesCameron, columns = ['original_title', 'release_date', 'budget', 'revenue', 'popularity', 'vote_average'])\n",
        "\n",
        "# This line prints the DataFrame containing information about movies directed by James Cameron\n",
        "print(moviesByJamesCameron)\n"
      ],
      "metadata": {
        "colab": {
          "base_uri": "https://localhost:8080/"
        },
        "id": "cw0RPloRZs01",
        "outputId": "bdc54a09-6e68-46b0-8c2e-8644ed7defcb"
      },
      "execution_count": 19,
      "outputs": [
        {
          "output_type": "stream",
          "name": "stdout",
          "text": [
            "               original_title release_date     budget     revenue  popularity  \\\n",
            "0                      Avatar   2009-12-10  237000000  2787965087         150   \n",
            "1                     Titanic   1997-11-18  200000000  1845034188         100   \n",
            "2  Terminator 2: Judgment Day   1991-07-01  100000000   520000000         101   \n",
            "3                   True Lies   1994-07-14  115000000   378882411          38   \n",
            "4                      Aliens   1986-07-18   18500000   183316455          67   \n",
            "5                   The Abyss   1989-08-09   70000000    90000098          24   \n",
            "6              The Terminator   1984-10-26    6400000    78371200          74   \n",
            "\n",
            "   vote_average  \n",
            "0           7.2  \n",
            "1           7.5  \n",
            "2           7.7  \n",
            "3           6.8  \n",
            "4           7.7  \n",
            "5           7.1  \n",
            "6           7.3  \n"
          ]
        }
      ]
    },
    {
      "cell_type": "markdown",
      "source": [
        "15.- Enumere los nombres de los directores con la cantidad de películas y los ingresos."
      ],
      "metadata": {
        "id": "pJx8JQFQnR06"
      }
    },
    {
      "cell_type": "code",
      "source": [
        "# Execute the SQL query to retrieve data from the database\n",
        "cur.execute('SELECT name, COUNT(original_title), SUM(revenue) FROM directors JOIN movies ON directors.id = movies.director_id GROUP BY name ORDER BY SUM(revenue) DESC')\n",
        "\n",
        "# Fetch all results from the cursor\n",
        "mostProfitableDirectors = cur.fetchall()  # Use plural for consistency\n",
        "\n",
        "# Convert the fetched data into a pandas DataFrame for easier manipulation\n",
        "mostProfitableDirectors_df = pd.DataFrame(mostProfitableDirectors, columns=['director_name', 'movies', 'revenue'])\n",
        "\n",
        "# Display the top 10 directors with the highest total revenue\n",
        "print(mostProfitableDirectors_df.head(10))\n"
      ],
      "metadata": {
        "colab": {
          "base_uri": "https://localhost:8080/"
        },
        "id": "ju8CCC9uZzDT",
        "outputId": "f8f1c958-a0c6-4007-af06-6eb1d9d7e024"
      },
      "execution_count": 20,
      "outputs": [
        {
          "output_type": "stream",
          "name": "stdout",
          "text": [
            "       director_name  movies     revenue\n",
            "0   Steven Spielberg      27  9147393164\n",
            "1      Peter Jackson       9  6498642820\n",
            "2      James Cameron       7  5883569439\n",
            "3        Michael Bay      12  5832524638\n",
            "4  Christopher Nolan       8  4227483234\n",
            "5     Chris Columbus      11  3725631503\n",
            "6    Robert Zemeckis      13  3590622002\n",
            "7       George Lucas       5  3339113893\n",
            "8         Tim Burton      14  3337418241\n",
            "9       Ridley Scott      16  3189557997\n"
          ]
        }
      ]
    },
    {
      "cell_type": "code",
      "source": [
        "# Importa la librería pandas (asumiendo que se llama pd)\n",
        "# Esta librería se usa para manipular datos en DataFrames\n",
        "\n",
        "# Ejecuta la consulta SQL\n",
        "cur.execute('SELECT original_title, release_date, budget, revenue, popularity, vote_average FROM directors JOIN movies ON directors.id = movies.director_id WHERE name = \"Steven Spielberg\" ORDER BY release_date DESC')\n",
        "\n",
        "# Almacena los resultados de la consulta en una variable\n",
        "moviesByStevenSpielberg = cur.fetchall()\n",
        "\n",
        "# Convierte los resultados (lista de tuplas) a un DataFrame de pandas\n",
        "moviesByStevenSpielberg = pd.DataFrame(moviesByStevenSpielberg, columns = ['original_title', 'release_date', 'budget', 'revenue', 'popularity', 'vote_average'])\n",
        "\n",
        "# Imprime el DataFrame resultante\n",
        "print(moviesByStevenSpielberg)\n"
      ],
      "metadata": {
        "colab": {
          "base_uri": "https://localhost:8080/"
        },
        "id": "uXAmpNkdZ6pW",
        "outputId": "4967ea15-1897-4faa-9333-75aeb9a3c38d"
      },
      "execution_count": 21,
      "outputs": [
        {
          "output_type": "stream",
          "name": "stdout",
          "text": [
            "                                       original_title release_date     budget  \\\n",
            "0                                             The BFG   2016-06-01  140000000   \n",
            "1                                     Bridge of Spies   2015-10-15   40000000   \n",
            "2                                             Lincoln   2012-11-09   65000000   \n",
            "3                                           War Horse   2011-12-25   66000000   \n",
            "4                            The Adventures of Tintin   2011-10-25  130000000   \n",
            "5   Indiana Jones and the Kingdom of the Crystal S...   2008-05-21  185000000   \n",
            "6                                              Munich   2005-12-22   70000000   \n",
            "7                                   War of the Worlds   2005-06-28  132000000   \n",
            "8                                        The Terminal   2004-06-17   60000000   \n",
            "9                                 Catch Me If You Can   2002-12-25   52000000   \n",
            "10                                    Minority Report   2002-06-20  102000000   \n",
            "11                       A.I. Artificial Intelligence   2001-06-29  100000000   \n",
            "12                                Saving Private Ryan   1998-07-24   70000000   \n",
            "13                                            Amistad   1997-12-03   36000000   \n",
            "14                      The Lost World: Jurassic Park   1997-05-23   73000000   \n",
            "15                                   Schindler's List   1993-11-29   22000000   \n",
            "16                                      Jurassic Park   1993-06-11   63000000   \n",
            "17                                               Hook   1991-12-11   70000000   \n",
            "18                 Indiana Jones and the Last Crusade   1989-05-24   48000000   \n",
            "19                                   The Color Purple   1985-12-18   15000000   \n",
            "20               Indiana Jones and the Temple of Doom   1984-05-23   28000000   \n",
            "21                           Twilight Zone: The Movie   1983-06-24   10000000   \n",
            "22                         E.T. the Extra-Terrestrial   1982-04-03   10500000   \n",
            "23                            Raiders of the Lost Ark   1981-06-12   18000000   \n",
            "24                                               1941   1979-12-13   35000000   \n",
            "25                 Close Encounters of the Third Kind   1977-11-16   20000000   \n",
            "26                                               Jaws   1975-06-18    7000000   \n",
            "\n",
            "      revenue  popularity  vote_average  \n",
            "0   183345589          44           6.0  \n",
            "1   165478348          48           7.2  \n",
            "2   275293450          36           6.7  \n",
            "3   177584879          29           7.0  \n",
            "4   371940071          89           6.7  \n",
            "5   786636033          75           5.7  \n",
            "6   130358911          29           6.9  \n",
            "7   591739379          48           6.2  \n",
            "8   219417255          57           7.0  \n",
            "9   352114312          73           7.7  \n",
            "10  358372926          65           7.1  \n",
            "11  235926552          34           6.8  \n",
            "12  481840909          76           7.9  \n",
            "13   74000000           3           6.8  \n",
            "14  229074524           2           6.2  \n",
            "15  321365567         104           8.3  \n",
            "16  920100000          40           7.6  \n",
            "17  300854823          33           6.6  \n",
            "18  474171806          80           7.6  \n",
            "19  146292009          17           7.7  \n",
            "20  333000000          66           7.1  \n",
            "21   29450919          12           6.2  \n",
            "22  792910554          56           7.3  \n",
            "23  389925971          68           7.7  \n",
            "24   31755742          10           5.6  \n",
            "25  303788635          52           7.2  \n",
            "26  470654000          50           7.5  \n"
          ]
        }
      ]
    },
    {
      "cell_type": "code",
      "source": [],
      "metadata": {
        "id": "-2Ck2gxYZ-kP"
      },
      "execution_count": null,
      "outputs": []
    }
  ]
}